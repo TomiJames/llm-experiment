{
 "cells": [
  {
   "cell_type": "markdown",
   "metadata": {},
   "source": [
    "### Data Understanding"
   ]
  },
  {
   "cell_type": "code",
   "execution_count": 2,
   "metadata": {},
   "outputs": [
    {
     "name": "stdout",
     "output_type": "stream",
     "text": [
      "Dataset shape: (42516, 15)\n",
      "Column names: Index(['PROC_TRACEINFO', 'OP070_V_1_angle_value',\n",
      "       'OP090_SnapRingPeakForce_value', 'OP070_V_2_angle_value',\n",
      "       'OP120_Rodage_I_mesure_value', 'OP090_SnapRingFinalStroke_value',\n",
      "       'OP110_Vissage_M8_torque_value', 'OP100_Capuchon_insertion_mesure',\n",
      "       'OP120_Rodage_U_mesure_value', 'OP070_V_1_torque_value',\n",
      "       'OP090_StartLinePeakForce_value', 'OP110_Vissage_M8_angle_value',\n",
      "       'OP090_SnapRingMidPointForce_val', 'OP070_V_2_torque_value',\n",
      "       'Binar_OP130_Resultat_Global_v'],\n",
      "      dtype='object')\n"
     ]
    }
   ],
   "source": [
    "import pandas as pd\n",
    "\n",
    "# Load the dataset\n",
    "df = pd.read_csv('valeo_dataset.csv')\n",
    "\n",
    "# Display the shape of the dataset\n",
    "print(\"Dataset shape:\", df.shape)\n",
    "\n",
    "# Display the column names\n",
    "print(\"Column names:\", df.columns)"
   ]
  },
  {
   "cell_type": "code",
   "execution_count": 3,
   "metadata": {},
   "outputs": [
    {
     "name": "stdout",
     "output_type": "stream",
     "text": [
      "First few rows:\n",
      "                PROC_TRACEINFO  OP070_V_1_angle_value  \\\n",
      "0  I-B-XA1207672-190429-00688                  180.4   \n",
      "1  I-B-XA1207672-190828-00973                  138.7   \n",
      "2  I-B-XA1207672-190712-03462                  180.9   \n",
      "3  I-B-XA1207672-190803-00051                  173.5   \n",
      "4  I-B-XA1207672-190508-03248                  174.5   \n",
      "\n",
      "   OP090_SnapRingPeakForce_value  OP070_V_2_angle_value  \\\n",
      "0                         190.51                  173.1   \n",
      "1                         147.70                  163.5   \n",
      "2                         150.87                  181.2   \n",
      "3                         159.56                  151.8   \n",
      "4                         172.29                  177.5   \n",
      "\n",
      "   OP120_Rodage_I_mesure_value  OP090_SnapRingFinalStroke_value  \\\n",
      "0                       113.64                            12.04   \n",
      "1                       109.77                            12.12   \n",
      "2                       109.79                            11.86   \n",
      "3                       113.25                            11.82   \n",
      "4                       112.88                            12.07   \n",
      "\n",
      "   OP110_Vissage_M8_torque_value  OP100_Capuchon_insertion_mesure  \\\n",
      "0                          12.16                              NaN   \n",
      "1                          12.19                             0.39   \n",
      "2                          12.24                              NaN   \n",
      "3                          12.35                             0.39   \n",
      "4                          12.19                              NaN   \n",
      "\n",
      "   OP120_Rodage_U_mesure_value  OP070_V_1_torque_value  \\\n",
      "0                        11.97                    6.62   \n",
      "1                        11.97                    6.41   \n",
      "2                        11.97                    6.62   \n",
      "3                        11.97                    6.62   \n",
      "4                        11.97                    6.62   \n",
      "\n",
      "   OP090_StartLinePeakForce_value  OP110_Vissage_M8_angle_value  \\\n",
      "0                           26.37                          18.8   \n",
      "1                           21.03                          18.5   \n",
      "2                           25.81                          17.5   \n",
      "3                           24.62                          15.6   \n",
      "4                           29.22                          33.6   \n",
      "\n",
      "   OP090_SnapRingMidPointForce_val  OP070_V_2_torque_value  \\\n",
      "0                           109.62                    6.60   \n",
      "1                           105.48                    6.40   \n",
      "2                           100.03                    6.61   \n",
      "3                           104.94                    6.61   \n",
      "4                            99.19                    6.61   \n",
      "\n",
      "   Binar_OP130_Resultat_Global_v  \n",
      "0                              1  \n",
      "1                              1  \n",
      "2                              1  \n",
      "3                              1  \n",
      "4                              1  \n"
     ]
    }
   ],
   "source": [
    "\n",
    "# Display the first few rows of the dataset\n",
    "print(\"First few rows:\\n\", df.head())"
   ]
  },
  {
   "cell_type": "code",
   "execution_count": 4,
   "metadata": {},
   "outputs": [
    {
     "name": "stdout",
     "output_type": "stream",
     "text": [
      "Missing values:\n",
      " PROC_TRACEINFO                         0\n",
      "OP070_V_1_angle_value                  0\n",
      "OP090_SnapRingPeakForce_value          0\n",
      "OP070_V_2_angle_value                  0\n",
      "OP120_Rodage_I_mesure_value            0\n",
      "OP090_SnapRingFinalStroke_value        0\n",
      "OP110_Vissage_M8_torque_value          0\n",
      "OP100_Capuchon_insertion_mesure    22987\n",
      "OP120_Rodage_U_mesure_value            0\n",
      "OP070_V_1_torque_value                 0\n",
      "OP090_StartLinePeakForce_value         0\n",
      "OP110_Vissage_M8_angle_value           0\n",
      "OP090_SnapRingMidPointForce_val        0\n",
      "OP070_V_2_torque_value                 0\n",
      "Binar_OP130_Resultat_Global_v          0\n",
      "dtype: int64\n"
     ]
    }
   ],
   "source": [
    "\n",
    "# Check for missing values\n",
    "print(\"Missing values:\\n\", df.isnull().sum())"
   ]
  },
  {
   "cell_type": "code",
   "execution_count": 5,
   "metadata": {},
   "outputs": [
    {
     "name": "stdout",
     "output_type": "stream",
     "text": [
      "Data types:\n",
      " PROC_TRACEINFO                      object\n",
      "OP070_V_1_angle_value              float64\n",
      "OP090_SnapRingPeakForce_value      float64\n",
      "OP070_V_2_angle_value              float64\n",
      "OP120_Rodage_I_mesure_value        float64\n",
      "OP090_SnapRingFinalStroke_value    float64\n",
      "OP110_Vissage_M8_torque_value      float64\n",
      "OP100_Capuchon_insertion_mesure    float64\n",
      "OP120_Rodage_U_mesure_value        float64\n",
      "OP070_V_1_torque_value             float64\n",
      "OP090_StartLinePeakForce_value     float64\n",
      "OP110_Vissage_M8_angle_value       float64\n",
      "OP090_SnapRingMidPointForce_val    float64\n",
      "OP070_V_2_torque_value             float64\n",
      "Binar_OP130_Resultat_Global_v        int64\n",
      "dtype: object\n"
     ]
    }
   ],
   "source": [
    "\n",
    "# Check data types of variables\n",
    "print(\"Data types:\\n\", df.dtypes)"
   ]
  },
  {
   "cell_type": "code",
   "execution_count": 6,
   "metadata": {},
   "outputs": [
    {
     "name": "stdout",
     "output_type": "stream",
     "text": [
      "Summary statistics:\n",
      "        OP070_V_1_angle_value  OP090_SnapRingPeakForce_value  \\\n",
      "count           42516.000000                   42516.000000   \n",
      "mean              159.896194                     156.900202   \n",
      "std                15.655252                      11.350148   \n",
      "min               101.800000                       0.000000   \n",
      "25%               148.675000                     149.160000   \n",
      "50%               158.000000                     156.190000   \n",
      "75%               169.300000                     164.410000   \n",
      "max               198.300000                     196.920000   \n",
      "\n",
      "       OP070_V_2_angle_value  OP120_Rodage_I_mesure_value  \\\n",
      "count           42516.000000                 42516.000000   \n",
      "mean              159.629664                   113.355778   \n",
      "std                15.119188                     3.532115   \n",
      "min                82.000000                    99.990000   \n",
      "25%               149.400000                   111.060000   \n",
      "50%               158.700000                   113.170000   \n",
      "75%               168.900000                   115.380000   \n",
      "max               198.100000                   186.310000   \n",
      "\n",
      "       OP090_SnapRingFinalStroke_value  OP110_Vissage_M8_torque_value  \\\n",
      "count                     42516.000000                   42516.000000   \n",
      "mean                         11.969814                      12.256279   \n",
      "std                           0.191825                       0.086432   \n",
      "min                           0.000000                       0.570000   \n",
      "25%                          11.850000                      12.210000   \n",
      "50%                          12.040000                      12.250000   \n",
      "75%                          12.080000                      12.300000   \n",
      "max                          12.190000                      12.500000   \n",
      "\n",
      "       OP100_Capuchon_insertion_mesure  OP120_Rodage_U_mesure_value  \\\n",
      "count                     19529.000000                 42516.000000   \n",
      "mean                          0.388281                    11.971033   \n",
      "std                           0.024409                     0.003056   \n",
      "min                           0.240000                    11.970000   \n",
      "25%                           0.380000                    11.970000   \n",
      "50%                           0.390000                    11.970000   \n",
      "75%                           0.410000                    11.970000   \n",
      "max                           0.420000                    11.990000   \n",
      "\n",
      "       OP070_V_1_torque_value  OP090_StartLinePeakForce_value  \\\n",
      "count            42516.000000                    42516.000000   \n",
      "mean                 6.548339                       23.622319   \n",
      "std                  0.097634                        2.551640   \n",
      "min                  5.670000                        0.000000   \n",
      "25%                  6.410000                       22.270000   \n",
      "50%                  6.610000                       23.870000   \n",
      "75%                  6.620000                       25.290000   \n",
      "max                  6.670000                       43.410000   \n",
      "\n",
      "       OP110_Vissage_M8_angle_value  OP090_SnapRingMidPointForce_val  \\\n",
      "count                  42516.000000                      42516.00000   \n",
      "mean                      17.888047                         97.68341   \n",
      "std                        6.770947                          6.87306   \n",
      "min                        0.000000                          0.00000   \n",
      "25%                       13.500000                         94.31000   \n",
      "50%                       16.400000                         98.48000   \n",
      "75%                       20.200000                        102.23000   \n",
      "max                       84.600000                        133.55000   \n",
      "\n",
      "       OP070_V_2_torque_value  Binar_OP130_Resultat_Global_v  \n",
      "count            42516.000000                   42516.000000  \n",
      "mean                 6.550700                       1.008726  \n",
      "std                  0.094861                       0.093006  \n",
      "min                  5.740000                       1.000000  \n",
      "25%                  6.420000                       1.000000  \n",
      "50%                  6.610000                       1.000000  \n",
      "75%                  6.610000                       1.000000  \n",
      "max                  6.680000                       2.000000  \n"
     ]
    }
   ],
   "source": [
    "\n",
    "# Check basic statistics of the dataset\n",
    "print(\"Summary statistics:\\n\", df.describe())"
   ]
  },
  {
   "cell_type": "code",
   "execution_count": 7,
   "metadata": {},
   "outputs": [
    {
     "name": "stdout",
     "output_type": "stream",
     "text": [
      "Unique values in the target variable:\n",
      " [1 2]\n"
     ]
    }
   ],
   "source": [
    "\n",
    "# Check the unique values in the target variable\n",
    "print(\"Unique values in the target variable:\\n\", df['Binar_OP130_Resultat_Global_v'].unique())"
   ]
  },
  {
   "cell_type": "code",
   "execution_count": 8,
   "metadata": {},
   "outputs": [
    {
     "name": "stdout",
     "output_type": "stream",
     "text": [
      "Correlation with the target variable:\n",
      " OP070_V_1_angle_value             -0.014083\n",
      "OP090_SnapRingPeakForce_value     -0.010973\n",
      "OP070_V_2_angle_value             -0.008609\n",
      "OP120_Rodage_I_mesure_value        0.002063\n",
      "OP090_SnapRingFinalStroke_value    0.014435\n",
      "OP110_Vissage_M8_torque_value     -0.000642\n",
      "OP100_Capuchon_insertion_mesure    0.026136\n",
      "OP120_Rodage_U_mesure_value       -0.010194\n",
      "OP070_V_1_torque_value            -0.038112\n",
      "OP090_StartLinePeakForce_value     0.007970\n",
      "OP110_Vissage_M8_angle_value       0.001850\n",
      "OP090_SnapRingMidPointForce_val    0.012410\n",
      "OP070_V_2_torque_value            -0.040576\n",
      "Binar_OP130_Resultat_Global_v      1.000000\n",
      "Name: Binar_OP130_Resultat_Global_v, dtype: float64\n"
     ]
    },
    {
     "name": "stderr",
     "output_type": "stream",
     "text": [
      "C:\\Users\\Owner\\AppData\\Local\\Temp\\ipykernel_26672\\195819763.py:2: FutureWarning: The default value of numeric_only in DataFrame.corr is deprecated. In a future version, it will default to False. Select only valid columns or specify the value of numeric_only to silence this warning.\n",
      "  print(\"Correlation with the target variable:\\n\", df.corr()['Binar_OP130_Resultat_Global_v'])\n"
     ]
    }
   ],
   "source": [
    "# Explore the relationship between predictor variables and the target variable\n",
    "print(\"Correlation with the target variable:\\n\", df.corr()['Binar_OP130_Resultat_Global_v'])"
   ]
  },
  {
   "cell_type": "code",
   "execution_count": 9,
   "metadata": {},
   "outputs": [
    {
     "data": {
      "image/png": "[encoded data removed]",
      "text/plain": [
       "<Figure size 640x480 with 1 Axes>"
      ]
     },
     "metadata": {},
     "output_type": "display_data"
    }
   ],
   "source": [
    "# Visualize the distribution of the target variable\n",
    "import matplotlib.pyplot as plt\n",
    "\n",
    "plt.hist(df['Binar_OP130_Resultat_Global_v'])\n",
    "plt.xlabel(\"Target variable values\")\n",
    "plt.ylabel(\"Frequency\")\n",
    "plt.title(\"Distribution of the target variable\")\n",
    "plt.show()"
   ]
  },
  {
   "cell_type": "markdown",
   "metadata": {},
   "source": [
    "Trying a different correlation method to explore the relationship between predictor variables and the target variable"
   ]
  },
  {
   "cell_type": "code",
   "execution_count": 10,
   "metadata": {},
   "outputs": [
    {
     "name": "stderr",
     "output_type": "stream",
     "text": [
      "C:\\Users\\Owner\\AppData\\Local\\Temp\\ipykernel_26672\\2866895349.py:2: FutureWarning: The default value of numeric_only in DataFrame.corr is deprecated. In a future version, it will default to False. Select only valid columns or specify the value of numeric_only to silence this warning.\n",
      "  correlations = df.corr(method='spearman')['Binar_OP130_Resultat_Global_v']\n"
     ]
    },
    {
     "data": {
      "image/png": "[encoded data removed]",
      "text/plain": [
       "<Figure size 250x250 with 2 Axes>"
      ]
     },
     "metadata": {},
     "output_type": "display_data"
    }
   ],
   "source": [
    "# Calculate correlations using Spearman's rank correlation coefficient\n",
    "correlations = df.corr(method='spearman')['Binar_OP130_Resultat_Global_v']\n",
    "\n",
    "# Filter variables with significant correlation\n",
    "significant_correlations = correlations[abs(correlations) > 0.1].index\n",
    "\n",
    "# Visualize relationships between significant variables and the target variable\n",
    "import seaborn as sns\n",
    "\n",
    "sns.pairplot(data=df, x_vars=significant_correlations, y_vars='Binar_OP130_Resultat_Global_v')\n",
    "plt.show()"
   ]
  },
  {
   "cell_type": "markdown",
   "metadata": {},
   "source": [
    "Implementing the suggestion given by GPT3.5 to resolve the warning"
   ]
  },
  {
   "cell_type": "code",
   "execution_count": 11,
   "metadata": {},
   "outputs": [
    {
     "data": {
      "image/png": "[encoded data removed]",
      "text/plain": [
       "<Figure size 250x250 with 2 Axes>"
      ]
     },
     "metadata": {},
     "output_type": "display_data"
    }
   ],
   "source": [
    "# Calculate correlations using Spearman's rank correlation coefficient\n",
    "correlations = df.corr(method='spearman', numeric_only=True)['Binar_OP130_Resultat_Global_v']\n",
    "\n",
    "# Filter variables with significant correlation\n",
    "significant_correlations = correlations[abs(correlations) > 0.1].index\n",
    "\n",
    "# Visualize relationships between significant variables and the target variable\n",
    "import seaborn as sns\n",
    "\n",
    "sns.pairplot(data=df, x_vars=significant_correlations, y_vars='Binar_OP130_Resultat_Global_v')\n",
    "plt.show()"
   ]
  },
  {
   "cell_type": "code",
   "execution_count": 12,
   "metadata": {},
   "outputs": [
    {
     "data": {
      "text/plain": [
       "OP070_V_1_angle_value             -0.014351\n",
       "OP090_SnapRingPeakForce_value     -0.011125\n",
       "OP070_V_2_angle_value             -0.008399\n",
       "OP120_Rodage_I_mesure_value        0.004121\n",
       "OP090_SnapRingFinalStroke_value    0.013391\n",
       "OP110_Vissage_M8_torque_value     -0.000052\n",
       "OP100_Capuchon_insertion_mesure    0.035670\n",
       "OP120_Rodage_U_mesure_value       -0.010143\n",
       "OP070_V_1_torque_value            -0.032699\n",
       "OP090_StartLinePeakForce_value     0.003970\n",
       "OP110_Vissage_M8_angle_value       0.000891\n",
       "OP090_SnapRingMidPointForce_val    0.011239\n",
       "OP070_V_2_torque_value            -0.034025\n",
       "Binar_OP130_Resultat_Global_v      1.000000\n",
       "Name: Binar_OP130_Resultat_Global_v, dtype: float64"
      ]
     },
     "execution_count": 12,
     "metadata": {},
     "output_type": "execute_result"
    }
   ],
   "source": [
    "# Calculate correlations using Spearman's rank correlation coefficient\n",
    "df.corr(method='spearman', numeric_only=True)['Binar_OP130_Resultat_Global_v']"
   ]
  },
  {
   "cell_type": "markdown",
   "metadata": {},
   "source": [
    "Identifying outliers"
   ]
  },
  {
   "cell_type": "code",
   "execution_count": 13,
   "metadata": {},
   "outputs": [
    {
     "ename": "TypeError",
     "evalue": "unsupported operand type(s) for /: 'str' and 'int'",
     "output_type": "error",
     "traceback": [
      "\u001b[1;31m---------------------------------------------------------------------------\u001b[0m",
      "\u001b[1;31mTypeError\u001b[0m                                 Traceback (most recent call last)",
      "Cell \u001b[1;32mIn[13], line 4\u001b[0m\n\u001b[0;32m      1\u001b[0m \u001b[39m# Identify outliers using Z-score\u001b[39;00m\n\u001b[0;32m      2\u001b[0m \u001b[39mfrom\u001b[39;00m \u001b[39mscipy\u001b[39;00m\u001b[39m.\u001b[39;00m\u001b[39mstats\u001b[39;00m \u001b[39mimport\u001b[39;00m zscore\n\u001b[1;32m----> 4\u001b[0m z_scores \u001b[39m=\u001b[39m zscore(df)\n\u001b[0;32m      5\u001b[0m outlier_indices \u001b[39m=\u001b[39m (\u001b[39mabs\u001b[39m(z_scores) \u001b[39m>\u001b[39m \u001b[39m3\u001b[39m)\u001b[39m.\u001b[39many(axis\u001b[39m=\u001b[39m\u001b[39m1\u001b[39m)\n\u001b[0;32m      7\u001b[0m \u001b[39m# Create a DataFrame with outlier indices and the target variable\u001b[39;00m\n",
      "File \u001b[1;32mc:\\Users\\Owner\\anaconda3\\envs\\genai\\Lib\\site-packages\\scipy\\stats\\_stats_py.py:2713\u001b[0m, in \u001b[0;36mzscore\u001b[1;34m(a, axis, ddof, nan_policy)\u001b[0m\n\u001b[0;32m   2644\u001b[0m \u001b[39mdef\u001b[39;00m \u001b[39mzscore\u001b[39m(a, axis\u001b[39m=\u001b[39m\u001b[39m0\u001b[39m, ddof\u001b[39m=\u001b[39m\u001b[39m0\u001b[39m, nan_policy\u001b[39m=\u001b[39m\u001b[39m'\u001b[39m\u001b[39mpropagate\u001b[39m\u001b[39m'\u001b[39m):\n\u001b[0;32m   2645\u001b[0m \u001b[39m    \u001b[39m\u001b[39m\"\"\"\u001b[39;00m\n\u001b[0;32m   2646\u001b[0m \u001b[39m    Compute the z score.\u001b[39;00m\n\u001b[0;32m   2647\u001b[0m \n\u001b[1;32m   (...)\u001b[0m\n\u001b[0;32m   2711\u001b[0m \u001b[39m           [-0.91611681, -0.89090508,  1.4983032 ,  0.88731639, -0.5785977 ]])\u001b[39;00m\n\u001b[0;32m   2712\u001b[0m \u001b[39m    \"\"\"\u001b[39;00m\n\u001b[1;32m-> 2713\u001b[0m     \u001b[39mreturn\u001b[39;00m zmap(a, a, axis\u001b[39m=\u001b[39;49maxis, ddof\u001b[39m=\u001b[39;49mddof, nan_policy\u001b[39m=\u001b[39;49mnan_policy)\n",
      "File \u001b[1;32mc:\\Users\\Owner\\anaconda3\\envs\\genai\\Lib\\site-packages\\scipy\\stats\\_stats_py.py:2872\u001b[0m, in \u001b[0;36mzmap\u001b[1;34m(scores, compare, axis, ddof, nan_policy)\u001b[0m\n\u001b[0;32m   2870\u001b[0m         isconst \u001b[39m=\u001b[39m np\u001b[39m.\u001b[39mapply_along_axis(_isconst, axis, a)\n\u001b[0;32m   2871\u001b[0m \u001b[39melse\u001b[39;00m:\n\u001b[1;32m-> 2872\u001b[0m     mn \u001b[39m=\u001b[39m a\u001b[39m.\u001b[39;49mmean(axis\u001b[39m=\u001b[39;49maxis, keepdims\u001b[39m=\u001b[39;49m\u001b[39mTrue\u001b[39;49;00m)\n\u001b[0;32m   2873\u001b[0m     std \u001b[39m=\u001b[39m a\u001b[39m.\u001b[39mstd(axis\u001b[39m=\u001b[39maxis, ddof\u001b[39m=\u001b[39mddof, keepdims\u001b[39m=\u001b[39m\u001b[39mTrue\u001b[39;00m)\n\u001b[0;32m   2874\u001b[0m     \u001b[39mif\u001b[39;00m axis \u001b[39mis\u001b[39;00m \u001b[39mNone\u001b[39;00m:\n",
      "File \u001b[1;32mc:\\Users\\Owner\\anaconda3\\envs\\genai\\Lib\\site-packages\\numpy\\core\\_methods.py:121\u001b[0m, in \u001b[0;36m_mean\u001b[1;34m(a, axis, dtype, out, keepdims, where)\u001b[0m\n\u001b[0;32m    119\u001b[0m \u001b[39mif\u001b[39;00m \u001b[39misinstance\u001b[39m(ret, mu\u001b[39m.\u001b[39mndarray):\n\u001b[0;32m    120\u001b[0m     \u001b[39mwith\u001b[39;00m _no_nep50_warning():\n\u001b[1;32m--> 121\u001b[0m         ret \u001b[39m=\u001b[39m um\u001b[39m.\u001b[39;49mtrue_divide(\n\u001b[0;32m    122\u001b[0m                 ret, rcount, out\u001b[39m=\u001b[39;49mret, casting\u001b[39m=\u001b[39;49m\u001b[39m'\u001b[39;49m\u001b[39munsafe\u001b[39;49m\u001b[39m'\u001b[39;49m, subok\u001b[39m=\u001b[39;49m\u001b[39mFalse\u001b[39;49;00m)\n\u001b[0;32m    123\u001b[0m     \u001b[39mif\u001b[39;00m is_float16_result \u001b[39mand\u001b[39;00m out \u001b[39mis\u001b[39;00m \u001b[39mNone\u001b[39;00m:\n\u001b[0;32m    124\u001b[0m         ret \u001b[39m=\u001b[39m arr\u001b[39m.\u001b[39mdtype\u001b[39m.\u001b[39mtype(ret)\n",
      "\u001b[1;31mTypeError\u001b[0m: unsupported operand type(s) for /: 'str' and 'int'"
     ]
    }
   ],
   "source": [
    "# Identify outliers using Z-score\n",
    "from scipy.stats import zscore\n",
    "\n",
    "z_scores = zscore(df)\n",
    "outlier_indices = (abs(z_scores) > 3).any(axis=1)\n",
    "\n",
    "# Create a DataFrame with outlier indices and the target variable\n",
    "outliers_df = pd.DataFrame({'Outlier': outlier_indices, 'Target': df['Binar_OP130_Resultat_Global_v']})\n",
    "\n",
    "# Visualize outliers using box plots\n",
    "plt.figure(figsize=(10, 6))\n",
    "sns.boxplot(x='Outlier', y='Target', data=outliers_df)\n",
    "plt.xlabel('Outlier')\n",
    "plt.ylabel('Target')\n",
    "plt.title('Outliers visualization')\n",
    "plt.show()"
   ]
  },
  {
   "cell_type": "code",
   "execution_count": 14,
   "metadata": {},
   "outputs": [
    {
     "data": {
      "image/png": "[encoded data removed]",
      "text/plain": [
       "<Figure size 1000x600 with 1 Axes>"
      ]
     },
     "metadata": {},
     "output_type": "display_data"
    }
   ],
   "source": [
    "import numpy as np\n",
    "\n",
    "# Identify numeric columns\n",
    "numeric_columns = df.select_dtypes(include=np.number).columns\n",
    "\n",
    "# Calculate z-scores for numeric columns only\n",
    "z_scores = zscore(df[numeric_columns])\n",
    "\n",
    "# Create a DataFrame with z-scores\n",
    "z_scores_df = pd.DataFrame(z_scores, columns=numeric_columns)\n",
    "\n",
    "# Identify outliers based on z-scores\n",
    "outlier_indices = (abs(z_scores_df) > 3).any(axis=1)\n",
    "\n",
    "# Visualize outliers using box plots\n",
    "plt.figure(figsize=(10, 6))\n",
    "sns.boxplot(x=outlier_indices, y=df['Binar_OP130_Resultat_Global_v'])\n",
    "plt.xlabel('Outlier')\n",
    "plt.ylabel('Target')\n",
    "plt.title('Outliers visualization')\n",
    "plt.show()"
   ]
  },
  {
   "cell_type": "markdown",
   "metadata": {},
   "source": [
    "### Data Preparation"
   ]
  },
  {
   "cell_type": "code",
   "execution_count": 15,
   "metadata": {},
   "outputs": [
    {
     "ename": "ValueError",
     "evalue": "Cannot use mean strategy with non-numeric data:\ncould not convert string to float: 'I-B-XA1207672-190629-00771'",
     "output_type": "error",
     "traceback": [
      "\u001b[1;31m---------------------------------------------------------------------------\u001b[0m",
      "\u001b[1;31mValueError\u001b[0m                                Traceback (most recent call last)",
      "Cell \u001b[1;32mIn[15], line 23\u001b[0m\n\u001b[0;32m     21\u001b[0m \u001b[39m# Handle missing values with mean imputation\u001b[39;00m\n\u001b[0;32m     22\u001b[0m imputer \u001b[39m=\u001b[39m SimpleImputer(strategy\u001b[39m=\u001b[39m\u001b[39m'\u001b[39m\u001b[39mmean\u001b[39m\u001b[39m'\u001b[39m)\n\u001b[1;32m---> 23\u001b[0m X_train_imputed \u001b[39m=\u001b[39m imputer\u001b[39m.\u001b[39;49mfit_transform(X_train)\n\u001b[0;32m     24\u001b[0m X_test_imputed \u001b[39m=\u001b[39m imputer\u001b[39m.\u001b[39mtransform(X_test)\n\u001b[0;32m     26\u001b[0m \u001b[39m# Scale the features\u001b[39;00m\n",
      "File \u001b[1;32mc:\\Users\\Owner\\anaconda3\\envs\\genai\\Lib\\site-packages\\sklearn\\utils\\_set_output.py:140\u001b[0m, in \u001b[0;36m_wrap_method_output.<locals>.wrapped\u001b[1;34m(self, X, *args, **kwargs)\u001b[0m\n\u001b[0;32m    138\u001b[0m \u001b[39m@wraps\u001b[39m(f)\n\u001b[0;32m    139\u001b[0m \u001b[39mdef\u001b[39;00m \u001b[39mwrapped\u001b[39m(\u001b[39mself\u001b[39m, X, \u001b[39m*\u001b[39margs, \u001b[39m*\u001b[39m\u001b[39m*\u001b[39mkwargs):\n\u001b[1;32m--> 140\u001b[0m     data_to_wrap \u001b[39m=\u001b[39m f(\u001b[39mself\u001b[39;49m, X, \u001b[39m*\u001b[39;49margs, \u001b[39m*\u001b[39;49m\u001b[39m*\u001b[39;49mkwargs)\n\u001b[0;32m    141\u001b[0m     \u001b[39mif\u001b[39;00m \u001b[39misinstance\u001b[39m(data_to_wrap, \u001b[39mtuple\u001b[39m):\n\u001b[0;32m    142\u001b[0m         \u001b[39m# only wrap the first output for cross decomposition\u001b[39;00m\n\u001b[0;32m    143\u001b[0m         \u001b[39mreturn\u001b[39;00m (\n\u001b[0;32m    144\u001b[0m             _wrap_data_with_container(method, data_to_wrap[\u001b[39m0\u001b[39m], X, \u001b[39mself\u001b[39m),\n\u001b[0;32m    145\u001b[0m             \u001b[39m*\u001b[39mdata_to_wrap[\u001b[39m1\u001b[39m:],\n\u001b[0;32m    146\u001b[0m         )\n",
      "File \u001b[1;32mc:\\Users\\Owner\\anaconda3\\envs\\genai\\Lib\\site-packages\\sklearn\\base.py:878\u001b[0m, in \u001b[0;36mTransformerMixin.fit_transform\u001b[1;34m(self, X, y, **fit_params)\u001b[0m\n\u001b[0;32m    874\u001b[0m \u001b[39m# non-optimized default implementation; override when a better\u001b[39;00m\n\u001b[0;32m    875\u001b[0m \u001b[39m# method is possible for a given clustering algorithm\u001b[39;00m\n\u001b[0;32m    876\u001b[0m \u001b[39mif\u001b[39;00m y \u001b[39mis\u001b[39;00m \u001b[39mNone\u001b[39;00m:\n\u001b[0;32m    877\u001b[0m     \u001b[39m# fit method of arity 1 (unsupervised transformation)\u001b[39;00m\n\u001b[1;32m--> 878\u001b[0m     \u001b[39mreturn\u001b[39;00m \u001b[39mself\u001b[39;49m\u001b[39m.\u001b[39;49mfit(X, \u001b[39m*\u001b[39;49m\u001b[39m*\u001b[39;49mfit_params)\u001b[39m.\u001b[39mtransform(X)\n\u001b[0;32m    879\u001b[0m \u001b[39melse\u001b[39;00m:\n\u001b[0;32m    880\u001b[0m     \u001b[39m# fit method of arity 2 (supervised transformation)\u001b[39;00m\n\u001b[0;32m    881\u001b[0m     \u001b[39mreturn\u001b[39;00m \u001b[39mself\u001b[39m\u001b[39m.\u001b[39mfit(X, y, \u001b[39m*\u001b[39m\u001b[39m*\u001b[39mfit_params)\u001b[39m.\u001b[39mtransform(X)\n",
      "File \u001b[1;32mc:\\Users\\Owner\\anaconda3\\envs\\genai\\Lib\\site-packages\\sklearn\\impute\\_base.py:390\u001b[0m, in \u001b[0;36mSimpleImputer.fit\u001b[1;34m(self, X, y)\u001b[0m\n\u001b[0;32m    381\u001b[0m \u001b[39mif\u001b[39;00m \u001b[39mself\u001b[39m\u001b[39m.\u001b[39mverbose \u001b[39m!=\u001b[39m \u001b[39m\"\u001b[39m\u001b[39mdeprecated\u001b[39m\u001b[39m\"\u001b[39m:\n\u001b[0;32m    382\u001b[0m     warnings\u001b[39m.\u001b[39mwarn(\n\u001b[0;32m    383\u001b[0m         \u001b[39m\"\u001b[39m\u001b[39mThe \u001b[39m\u001b[39m'\u001b[39m\u001b[39mverbose\u001b[39m\u001b[39m'\u001b[39m\u001b[39m parameter was deprecated in version \u001b[39m\u001b[39m\"\u001b[39m\n\u001b[0;32m    384\u001b[0m         \u001b[39m\"\u001b[39m\u001b[39m1.1 and will be removed in 1.3. A warning will \u001b[39m\u001b[39m\"\u001b[39m\n\u001b[1;32m   (...)\u001b[0m\n\u001b[0;32m    387\u001b[0m         \u001b[39mFutureWarning\u001b[39;00m,\n\u001b[0;32m    388\u001b[0m     )\n\u001b[1;32m--> 390\u001b[0m X \u001b[39m=\u001b[39m \u001b[39mself\u001b[39;49m\u001b[39m.\u001b[39;49m_validate_input(X, in_fit\u001b[39m=\u001b[39;49m\u001b[39mTrue\u001b[39;49;00m)\n\u001b[0;32m    392\u001b[0m \u001b[39m# default fill_value is 0 for numerical input and \"missing_value\"\u001b[39;00m\n\u001b[0;32m    393\u001b[0m \u001b[39m# otherwise\u001b[39;00m\n\u001b[0;32m    394\u001b[0m \u001b[39mif\u001b[39;00m \u001b[39mself\u001b[39m\u001b[39m.\u001b[39mfill_value \u001b[39mis\u001b[39;00m \u001b[39mNone\u001b[39;00m:\n",
      "File \u001b[1;32mc:\\Users\\Owner\\anaconda3\\envs\\genai\\Lib\\site-packages\\sklearn\\impute\\_base.py:342\u001b[0m, in \u001b[0;36mSimpleImputer._validate_input\u001b[1;34m(self, X, in_fit)\u001b[0m\n\u001b[0;32m    336\u001b[0m \u001b[39mif\u001b[39;00m \u001b[39m\"\u001b[39m\u001b[39mcould not convert\u001b[39m\u001b[39m\"\u001b[39m \u001b[39min\u001b[39;00m \u001b[39mstr\u001b[39m(ve):\n\u001b[0;32m    337\u001b[0m     new_ve \u001b[39m=\u001b[39m \u001b[39mValueError\u001b[39;00m(\n\u001b[0;32m    338\u001b[0m         \u001b[39m\"\u001b[39m\u001b[39mCannot use \u001b[39m\u001b[39m{}\u001b[39;00m\u001b[39m strategy with non-numeric data:\u001b[39m\u001b[39m\\n\u001b[39;00m\u001b[39m{}\u001b[39;00m\u001b[39m\"\u001b[39m\u001b[39m.\u001b[39mformat(\n\u001b[0;32m    339\u001b[0m             \u001b[39mself\u001b[39m\u001b[39m.\u001b[39mstrategy, ve\n\u001b[0;32m    340\u001b[0m         )\n\u001b[0;32m    341\u001b[0m     )\n\u001b[1;32m--> 342\u001b[0m     \u001b[39mraise\u001b[39;00m new_ve \u001b[39mfrom\u001b[39;00m \u001b[39mNone\u001b[39;00m\n\u001b[0;32m    343\u001b[0m \u001b[39melse\u001b[39;00m:\n\u001b[0;32m    344\u001b[0m     \u001b[39mraise\u001b[39;00m ve\n",
      "\u001b[1;31mValueError\u001b[0m: Cannot use mean strategy with non-numeric data:\ncould not convert string to float: 'I-B-XA1207672-190629-00771'"
     ]
    }
   ],
   "source": [
    "import pandas as pd\n",
    "from sklearn.model_selection import train_test_split\n",
    "from sklearn.impute import SimpleImputer\n",
    "from sklearn.preprocessing import StandardScaler\n",
    "\n",
    "# Load the dataset\n",
    "df = pd.read_csv('valeo_dataset.csv')\n",
    "\n",
    "# Drop features with over 50% missing values\n",
    "missing_values = df.isnull().sum() / len(df) * 100\n",
    "features_with_missing_values = missing_values[missing_values > 50].index\n",
    "df.drop(columns=features_with_missing_values, inplace=True)\n",
    "\n",
    "# Separate the target variable\n",
    "target = df['Binar_OP130_Resultat_Global_v']\n",
    "df.drop(columns='Binar_OP130_Resultat_Global_v', inplace=True)\n",
    "\n",
    "# Split the dataset into training and testing sets\n",
    "X_train, X_test, y_train, y_test = train_test_split(df, target, test_size=0.2, random_state=42)\n",
    "\n",
    "# Handle missing values with mean imputation\n",
    "imputer = SimpleImputer(strategy='mean')\n",
    "X_train_imputed = imputer.fit_transform(X_train)\n",
    "X_test_imputed = imputer.transform(X_test)\n",
    "\n",
    "# Scale the features\n",
    "scaler = StandardScaler()\n",
    "X_train_scaled = scaler.fit_transform(X_train_imputed)\n",
    "X_test_scaled = scaler.transform(X_test_imputed)"
   ]
  }
 ],
 "metadata": {
  "kernelspec": {
   "display_name": "genai",
   "language": "python",
   "name": "python3"
  },
  "language_info": {
   "codemirror_mode": {
    "name": "ipython",
    "version": 3
   },
   "file_extension": ".py",
   "mimetype": "text/x-python",
   "name": "python",
   "nbconvert_exporter": "python",
   "pygments_lexer": "ipython3",
   "version": "3.11.4"
  },
  "orig_nbformat": 4
 },
 "nbformat": 4,
 "nbformat_minor": 2
}
