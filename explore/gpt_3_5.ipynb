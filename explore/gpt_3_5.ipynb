{
 "cells": [
  {
   "cell_type": "code",
   "execution_count": 1,
   "metadata": {},
   "outputs": [],
   "source": [
    "import os\n",
    "import sys\n",
    "sys.path.append('C:\\\\Users\\\\Owner\\\\OneDrive\\\\Desktop\\\\MSc. Bradford\\\\MSc. Dissertation\\\\llm_experiment\\\\src')\n",
    "\n",
    "import gpt\n",
    "\n",
    "MODEL = 'gpt-3.5-turbo-0613'\n",
    "SECRET_KEY = os.getenv(\"OPENAI_SECRET_KEY\")\n",
    "TEMPERATURE = 0.5\n",
    "gpt_3_5 = gpt.GPT(MODEL,TEMPERATURE, SECRET_KEY)"
   ]
  },
  {
   "cell_type": "code",
   "execution_count": 2,
   "metadata": {},
   "outputs": [
    {
     "data": {
      "text/markdown": [
       "Data cleaning, also known as data cleansing or data scrubbing, is the process of identifying and correcting or removing errors, inconsistencies, and inaccuracies in a dataset. It involves various techniques and methods to ensure that the data is accurate, complete, and reliable for analysis.\n",
       "\n",
       "Data cleaning typically includes tasks such as:\n",
       "\n",
       "1. Removing duplicate records: Identifying and eliminating identical or near-identical observations in the dataset.\n",
       "\n",
       "2. Handling missing values: Dealing with missing data by either imputing values based on other observations or removing the records with missing values.\n",
       "\n",
       "3. Correcting inaccurate data: Identifying and rectifying errors, outliers, or inconsistencies in the data that may have occurred during data collection or entry.\n",
       "\n",
       "4. Standardizing variables: Ensuring consistency in the format and units of measurement across different variables.\n",
       "\n",
       "5. Handling outliers: Identifying and addressing extreme values that may significantly affect the analysis or modeling results.\n",
       "\n",
       "6. Resolving inconsistencies: Checking for inconsistencies in the data, such as conflicting information or contradictory values, and resolving them.\n",
       "\n",
       "7. Removing irrelevant or redundant variables: Eliminating variables that are not necessary for the analysis or do not contribute meaningful information.\n",
       "\n",
       "Data cleaning is an essential step in the data preparation process as it helps improve the quality and reliability of the data, which in turn enhances the accuracy and validity of any subsequent analysis or modeling tasks."
      ],
      "text/plain": [
       "<IPython.core.display.Markdown object>"
      ]
     },
     "metadata": {},
     "output_type": "display_data"
    }
   ],
   "source": [
    "prompt = 'What is data cleaning?'\n",
    "gpt_3_5.query_gpt(prompt)"
   ]
  },
  {
   "cell_type": "code",
   "execution_count": 3,
   "metadata": {},
   "outputs": [
    {
     "data": {
      "text/markdown": [
       "Certainly! Here are some examples of Python code to perform common data cleaning tasks:\n",
       "\n",
       "1. Removing duplicate records:\n",
       "```python\n",
       "# Assuming 'data' is a pandas DataFrame\n",
       "data = data.drop_duplicates()\n",
       "```\n",
       "\n",
       "2. Handling missing values:\n",
       "```python\n",
       "# Assuming 'data' is a pandas DataFrame\n",
       "# Drop rows with any missing values\n",
       "data = data.dropna()\n",
       "\n",
       "# Impute missing values with the mean of the column\n",
       "data['column_name'].fillna(data['column_name'].mean(), inplace=True)\n",
       "```\n",
       "\n",
       "3. Correcting inaccurate data:\n",
       "```python\n",
       "# Assuming 'data' is a pandas DataFrame\n",
       "# Replace incorrect values with correct ones\n",
       "data['column_name'].replace({'incorrect_value': 'correct_value'}, inplace=True)\n",
       "```\n",
       "\n",
       "4. Standardizing variables:\n",
       "```python\n",
       "# Assuming 'data' is a pandas DataFrame\n",
       "# Convert a variable to a specific data type\n",
       "data['column_name'] = data['column_name'].astype('int')\n",
       "\n",
       "# Convert units of measurement\n",
       "data['column_name'] = data['column_name'] * conversion_factor\n",
       "```\n",
       "\n",
       "5. Handling outliers:\n",
       "```python\n",
       "# Assuming 'data' is a pandas DataFrame\n",
       "# Remove outliers using z-score method\n",
       "from scipy import stats\n",
       "data = data[(np.abs(stats.zscore(data['column_name'])) < 3)]\n",
       "```\n",
       "\n",
       "6. Resolving inconsistencies:\n",
       "```python\n",
       "# Assuming 'data' is a pandas DataFrame\n",
       "# Identify and fix inconsistent values\n",
       "data['column_name'].replace({'inconsistent_value': 'consistent_value'}, inplace=True)\n",
       "```\n",
       "\n",
       "7. Removing irrelevant or redundant variables:\n",
       "```python\n",
       "# Assuming 'data' is a pandas DataFrame\n",
       "# Drop irrelevant or redundant columns\n",
       "data = data.drop(['column_name1', 'column_name2'], axis=1)\n",
       "```\n",
       "\n",
       "Please note that these are general examples, and the code may need to be modified based on the specific dataset and requirements. Also, make sure to import the necessary libraries (e.g., pandas, numpy, scipy) before executing the code."
      ],
      "text/plain": [
       "<IPython.core.display.Markdown object>"
      ]
     },
     "metadata": {},
     "output_type": "display_data"
    }
   ],
   "source": [
    "prompt = 'Write python codes to perform the tasks you listed earlier.'\n",
    "gpt_3_5.query_gpt(prompt)"
   ]
  },
  {
   "cell_type": "code",
   "execution_count": 4,
   "metadata": {},
   "outputs": [
    {
     "data": {
      "text/markdown": [
       "To determine which data cleaning tasks apply to your dataset, you need to understand the characteristics and quality of your data. Here are some steps to help you identify the specific tasks required:\n",
       "\n",
       "1. Data profiling: Perform an initial exploration of your dataset to gain insights into its structure, variables, and quality. This can involve examining summary statistics, checking for missing values, identifying unique values, and visualizing distributions or patterns.\n",
       "\n",
       "2. Data quality assessment: Evaluate the quality of your data by assessing its completeness, accuracy, consistency, and relevance. This can be done by checking for missing values, outliers, inconsistencies, and redundant or irrelevant variables.\n",
       "\n",
       "3. Domain knowledge: Consider your knowledge of the domain to identify potential data issues or errors that may commonly occur. For example, if you are working with customer data, you might expect missing values in certain fields like phone numbers or addresses.\n",
       "\n",
       "4. Data exploration: Conduct exploratory data analysis (EDA) to further understand your data and identify any anomalies or patterns that may require cleaning. Visualization techniques such as scatter plots, histograms, or box plots can help in identifying outliers or unusual data points.\n",
       "\n",
       "5. Data cleaning best practices: Familiarize yourself with common data cleaning tasks and techniques. This includes handling missing values, removing duplicates, correcting inaccurate data, standardizing variables, resolving inconsistencies, and removing irrelevant or redundant variables. Consider the applicability of these tasks to your dataset based on the issues identified in steps 1-4.\n",
       "\n",
       "By following these steps, you can gain a better understanding of your dataset's characteristics and identify the data cleaning tasks that are necessary to ensure its quality and reliability for analysis."
      ],
      "text/plain": [
       "<IPython.core.display.Markdown object>"
      ]
     },
     "metadata": {},
     "output_type": "display_data"
    }
   ],
   "source": [
    "prompt = 'How do I know which task applies to my dataset?'\n",
    "gpt_3_5.query_gpt(prompt)"
   ]
  },
  {
   "cell_type": "code",
   "execution_count": 5,
   "metadata": {},
   "outputs": [
    {
     "data": {
      "text/markdown": [
       "Certainly! The code provided for handling outliers using the z-score method is as follows:\n",
       "\n",
       "```python\n",
       "# Assuming 'data' is a pandas DataFrame\n",
       "# Remove outliers using z-score method\n",
       "from scipy import stats\n",
       "data = data[(np.abs(stats.zscore(data['column_name'])) < 3)]\n",
       "```\n",
       "\n",
       "Here's a breakdown of the code:\n",
       "\n",
       "1. The code assumes that you have a pandas DataFrame named 'data' and you want to remove outliers from a specific column named 'column_name'. You can replace 'column_name' with the actual name of the column you want to clean.\n",
       "\n",
       "2. The code imports the 'stats' module from the 'scipy' library. The 'stats' module provides various statistical functions and methods, including the z-score calculation.\n",
       "\n",
       "3. The code applies the z-score calculation to the 'column_name' column using the 'stats.zscore()' function. The z-score measures how many standard deviations an observation is away from the mean. It helps identify observations that are significantly different from the rest of the data.\n",
       "\n",
       "4. The code uses the 'np.abs()' function from the numpy library to calculate the absolute value of the z-scores. This ensures that we consider the magnitude of the deviation from the mean rather than the direction.\n",
       "\n",
       "5. The code applies a condition to filter the DataFrame 'data' using boolean indexing. It keeps only the rows where the absolute z-score is less than 3. This threshold of 3 is a commonly used value to identify outliers. You can adjust this threshold based on your specific requirements.\n",
       "\n",
       "By applying this code, rows with outliers in the specified column will be removed from the 'data' DataFrame, leaving behind a cleaned dataset without those extreme values."
      ],
      "text/plain": [
       "<IPython.core.display.Markdown object>"
      ]
     },
     "metadata": {},
     "output_type": "display_data"
    }
   ],
   "source": [
    "prompt = 'Can you explain the code you shared under point 5: Handling Outliers?'\n",
    "gpt_3_5.query_gpt(prompt)"
   ]
  }
 ],
 "metadata": {
  "kernelspec": {
   "display_name": "genai",
   "language": "python",
   "name": "python3"
  },
  "language_info": {
   "codemirror_mode": {
    "name": "ipython",
    "version": 3
   },
   "file_extension": ".py",
   "mimetype": "text/x-python",
   "name": "python",
   "nbconvert_exporter": "python",
   "pygments_lexer": "ipython3",
   "version": "3.11.4"
  },
  "orig_nbformat": 4
 },
 "nbformat": 4,
 "nbformat_minor": 2
}
