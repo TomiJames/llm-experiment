{
 "cells": [
  {
   "cell_type": "code",
   "execution_count": 1,
   "metadata": {},
   "outputs": [],
   "source": [
    "import os\n",
    "import openai\n",
    "from IPython.display import display, Markdown"
   ]
  },
  {
   "cell_type": "code",
   "execution_count": 2,
   "metadata": {},
   "outputs": [],
   "source": [
    "MODEL = 'gpt-3.5-turbo'\n",
    "TEMPERATURE = 0"
   ]
  },
  {
   "cell_type": "code",
   "execution_count": 3,
   "metadata": {},
   "outputs": [],
   "source": [
    "secret_key = os.getenv(\"SECRET_KEY\")"
   ]
  },
  {
   "cell_type": "code",
   "execution_count": 4,
   "metadata": {},
   "outputs": [],
   "source": [
    "openai.api_key = secret_key"
   ]
  },
  {
   "cell_type": "code",
   "execution_count": 5,
   "metadata": {},
   "outputs": [],
   "source": [
    "completion = openai.ChatCompletion()"
   ]
  },
  {
   "cell_type": "code",
   "execution_count": 6,
   "metadata": {},
   "outputs": [],
   "source": [
    "def query_chatgpt(prompt, temperature, log=None):\n",
    "    if log is None:\n",
    "        log = [{'role':'system', 'content':'You are an intelligent data science/analytics teaching assistant'}]\n",
    "    log.append({'role':'user', 'content':prompt})\n",
    "    response = completion.create(model=MODEL, messages=log, temperature=temperature)\n",
    "    answer = response.choices[0]['message']['content']\n",
    "    log.append({'role': 'assistant', 'content': answer})\n",
    "    return answer, log"
   ]
  },
  {
   "cell_type": "code",
   "execution_count": 7,
   "metadata": {},
   "outputs": [
    {
     "data": {
      "text/markdown": [
       "The KDD (Knowledge Discovery in Databases) process is a comprehensive and iterative process used in data mining to extract useful knowledge from large datasets. It involves several steps:\n",
       "\n",
       "1. Understanding the domain: This step involves gaining a thorough understanding of the domain and the objectives of the data mining project.\n",
       "\n",
       "2. Data cleaning: In this step, the dataset is cleaned by removing noise, handling missing values, and dealing with inconsistencies.\n",
       "\n",
       "3. Data integration: If the dataset is obtained from multiple sources, this step involves integrating the data into a single dataset.\n",
       "\n",
       "4. Data selection: This step involves selecting the relevant data for analysis based on the project objectives.\n",
       "\n",
       "5. Data transformation: The data is transformed into a suitable format for analysis. This may involve normalization, aggregation, or other transformations.\n",
       "\n",
       "6. Data mining: This is the core step of the KDD process, where various data mining techniques are applied to extract patterns, relationships, or models from the data.\n",
       "\n",
       "7. Pattern evaluation: The discovered patterns or models are evaluated based on their quality, relevance, and usefulness.\n",
       "\n",
       "8. Knowledge presentation: The results of the data mining process are presented in a suitable format, such as reports, visualizations, or interactive tools.\n",
       "\n",
       "9. Knowledge utilization: The knowledge extracted from the data is used to make informed decisions, improve processes, or gain insights in the domain.\n",
       "\n",
       "The KDD process is iterative, meaning that the steps can be revisited and refined based on the results and feedback obtained at each stage."
      ],
      "text/plain": [
       "<IPython.core.display.Markdown object>"
      ]
     },
     "metadata": {},
     "output_type": "display_data"
    }
   ],
   "source": [
    "prompt = 'What is the KDD process in data mining?'\n",
    "response, chat_log = query_chatgpt(prompt, TEMPERATURE)\n",
    "display(Markdown(response))"
   ]
  },
  {
   "cell_type": "code",
   "execution_count": 8,
   "metadata": {},
   "outputs": [
    {
     "data": {
      "text/markdown": [
       "The KDD (Knowledge Discovery in Databases) process is a comprehensive and iterative process used in data mining to extract useful knowledge from large datasets. It involves several steps:\n",
       "\n",
       "1. Understanding the domain: This step involves gaining a thorough understanding of the domain and the objectives of the data mining project.\n",
       "\n",
       "2. Data cleaning: In this step, the dataset is cleaned by removing noise, handling missing values, and dealing with inconsistencies.\n",
       "\n",
       "3. Data integration: If the dataset is obtained from multiple sources, this step involves integrating the data into a single dataset.\n",
       "\n",
       "4. Data selection: This step involves selecting the relevant data for analysis based on the project objectives.\n",
       "\n",
       "5. Data transformation: The data is transformed into a suitable format for analysis. This may involve normalization, aggregation, or other transformations.\n",
       "\n",
       "6. Data mining: This is the core step of the KDD process, where various data mining techniques are applied to extract patterns, relationships, or models from the data.\n",
       "\n",
       "7. Pattern evaluation: The discovered patterns or models are evaluated based on their quality, relevance, and usefulness.\n",
       "\n",
       "8. Knowledge presentation: The results of the data mining process are presented in a suitable format, such as reports, visualizations, or interactive tools.\n",
       "\n",
       "9. Knowledge utilization: The knowledge extracted from the data is used to make informed decisions, improve processes, or solve problems in the domain.\n",
       "\n",
       "The KDD process is iterative, meaning that the steps can be revisited and refined based on the feedback and insights gained from previous iterations."
      ],
      "text/plain": [
       "<IPython.core.display.Markdown object>"
      ]
     },
     "metadata": {},
     "output_type": "display_data"
    }
   ],
   "source": [
    "prompt = 'What is the KDD process in data mining?'\n",
    "response, chat_log = query_chatgpt(prompt, TEMPERATURE)\n",
    "display(Markdown(response))"
   ]
  },
  {
   "cell_type": "code",
   "execution_count": 9,
   "metadata": {},
   "outputs": [
    {
     "data": {
      "text/markdown": [
       "The KDD (Knowledge Discovery in Databases) process is a comprehensive and iterative process used in data mining. It involves several steps to extract useful knowledge from large datasets. The steps of the KDD process are as follows:\n",
       "\n",
       "1. Problem Understanding: Understanding the business problem or objective that needs to be addressed through data mining.\n",
       "\n",
       "2. Data Understanding: Gathering and exploring the available data to understand its structure, quality, and relevance to the problem.\n",
       "\n",
       "3. Data Preparation: Preparing the data for analysis by selecting relevant variables, cleaning the data, handling missing values, and transforming the data into a suitable format.\n",
       "\n",
       "4. Data Mining: Applying various data mining techniques such as classification, clustering, regression, association rules, or other algorithms to extract patterns, relationships, or models from the prepared data.\n",
       "\n",
       "5. Evaluation: Assessing the accuracy, validity, and usefulness of the discovered patterns or models using appropriate evaluation metrics.\n",
       "\n",
       "6. Knowledge Representation: Representing the discovered knowledge in a suitable form, such as rules, decision trees, or mathematical equations.\n",
       "\n",
       "7. Interpretation and Evaluation: Interpreting the discovered knowledge, evaluating its effectiveness in addressing the business problem, and determining its potential value.\n",
       "\n",
       "8. Deployment: Integrating the discovered knowledge into the business process or system, and deploying it for decision-making or operational use.\n",
       "\n",
       "9. Monitoring and Maintenance: Monitoring the performance of the deployed knowledge, updating it as new data becomes available, and maintaining its relevance and accuracy over time.\n",
       "\n",
       "The KDD process is iterative, meaning that the steps may be repeated or refined as new insights or issues are discovered throughout the process."
      ],
      "text/plain": [
       "<IPython.core.display.Markdown object>"
      ]
     },
     "metadata": {},
     "output_type": "display_data"
    },
    {
     "ename": "",
     "evalue": "",
     "output_type": "error",
     "traceback": [
      "\u001b[1;31mThe Kernel crashed while executing code in the the current cell or a previous cell. Please review the code in the cell(s) to identify a possible cause of the failure. Click <a href='https://aka.ms/vscodeJupyterKernelCrash'>here</a> for more info. View Jupyter <a href='command:jupyter.viewOutput'>log</a> for further details."
     ]
    }
   ],
   "source": [
    "prompt = 'What is the KDD process in data mining?'\n",
    "response, chat_log = query_chatgpt(prompt, 0.5)\n",
    "display(Markdown(response))"
   ]
  }
 ],
 "metadata": {
  "kernelspec": {
   "display_name": "genai",
   "language": "python",
   "name": "python3"
  },
  "language_info": {
   "codemirror_mode": {
    "name": "ipython",
    "version": 3
   },
   "file_extension": ".py",
   "mimetype": "text/x-python",
   "name": "python",
   "nbconvert_exporter": "python",
   "pygments_lexer": "ipython3",
   "version": "3.11.4"
  },
  "orig_nbformat": 4
 },
 "nbformat": 4,
 "nbformat_minor": 2
}
