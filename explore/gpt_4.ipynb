{
 "cells": [
  {
   "cell_type": "code",
   "execution_count": 1,
   "metadata": {},
   "outputs": [],
   "source": [
    "import os\n",
    "import sys\n",
    "sys.path.append('C:\\\\Users\\\\Owner\\\\OneDrive\\\\Desktop\\\\MSc. Bradford\\\\MSc. Dissertation\\\\llm_experiment\\\\src')\n",
    "\n",
    "import gpt\n",
    "\n",
    "MODEL = 'gpt-4-0613'\n",
    "SECRET_KEY = os.getenv(\"OPENAI_SECRET_KEY\")\n",
    "TEMPERATURE = 0.5\n",
    "gpt_4 = gpt.GPT(MODEL,TEMPERATURE, SECRET_KEY)"
   ]
  },
  {
   "cell_type": "code",
   "execution_count": 2,
   "metadata": {},
   "outputs": [
    {
     "data": {
      "text/markdown": [
       "Data cleaning, also known as data cleansing or data scrubbing, is the process of identifying and correcting or removing errors, inaccuracies, and inconsistencies in datasets. This process is crucial in improving the quality and reliability of data. \n",
       "\n",
       "The data cleaning process may involve various tasks such as removing duplicates, handling missing data, correcting inconsistent entries, and validating and correcting values against a known list or set of rules. \n",
       "\n",
       "The primary aim of data cleaning is to create uniform and consistent data that can be used for further analysis or decision making. It's a critical step in the data preparation stage before any data analysis or data modeling tasks."
      ],
      "text/plain": [
       "<IPython.core.display.Markdown object>"
      ]
     },
     "metadata": {},
     "output_type": "display_data"
    }
   ],
   "source": [
    "prompt = 'What is data cleaning?'\n",
    "gpt_4.query_gpt(prompt)"
   ]
  }
 ],
 "metadata": {
  "kernelspec": {
   "display_name": "genai",
   "language": "python",
   "name": "python3"
  },
  "language_info": {
   "codemirror_mode": {
    "name": "ipython",
    "version": 3
   },
   "file_extension": ".py",
   "mimetype": "text/x-python",
   "name": "python",
   "nbconvert_exporter": "python",
   "pygments_lexer": "ipython3",
   "version": "3.11.4"
  },
  "orig_nbformat": 4
 },
 "nbformat": 4,
 "nbformat_minor": 2
}
