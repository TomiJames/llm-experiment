{
 "cells": [
  {
   "cell_type": "code",
   "execution_count": 1,
   "metadata": {},
   "outputs": [],
   "source": [
    "import os\n",
    "import sys\n",
    "sys.path.append('C:\\\\Users\\\\Owner\\\\OneDrive\\\\Desktop\\\\MSc. Bradford\\\\MSc. Dissertation\\\\llm_experiment\\\\src')\n",
    "\n",
    "import llama\n",
    "\n",
    "MODEL = 'a16z-infra/llama7b-v2-chat:4f0a4744c7295c024a1de15e1a63c880d3da035fa1f49bfd344fe076074c8eea'\n",
    "SECRET_KEY = os.getenv(\"REPLICATE_API_KEY\")\n",
    "TEMPERATURE = 0.5\n",
    "llama_2 = llama.LLAMA(MODEL,TEMPERATURE, SECRET_KEY)"
   ]
  },
  {
   "cell_type": "code",
   "execution_count": 2,
   "metadata": {},
   "outputs": [
    {
     "data": {
      "text/markdown": [
       "Assistant: Data cleaning is the process of identifying, correcting, and removing errors or inconsistencies in a dataset to improve its quality and accuracy. It involves checking and verifying the data for completeness, accuracy, and consistency, and making necessary corrections to ensure that the data is reliable and usable for analysis. Data cleaning is an important step in the data preprocessing phase of data analysis, as it helps to ensure that the insights and conclusions drawn from the data are accurate and reliable."
      ],
      "text/plain": [
       "<IPython.core.display.Markdown object>"
      ]
     },
     "metadata": {},
     "output_type": "display_data"
    }
   ],
   "source": [
    "prompt = 'What is data cleaning?'\n",
    "llama_2.query_llama(prompt)"
   ]
  },
  {
   "cell_type": "code",
   "execution_count": 3,
   "metadata": {},
   "outputs": [
    {
     "data": {
      "text/markdown": [
       "Assistant: Sure! Here is an example of how you could perform data cleaning tasks using Python:\n",
       "# Import necessary libraries\n",
       "import pandas as pd\n",
       "# Load the dataset\n",
       "df = pd.read_csv('data.csv')\n",
       "# Identify and correct errors or inconsistencies in the dataset\n",
       "# Check for missing values and replace them with mean or median values\n",
       "df.fillna(method='mean', inplace=True)\n",
       "# Check for invalid or unnecessary columns and remove them\n",
       "df = df.drop(columns=['column1', 'column2'])\n",
       "# Check for duplicates and remove them\n",
       "df = df.drop_duplicates()\n",
       "# Check for inconsistent data types and convert them to consistent types\n",
       "df['column_name'] = pd.to_numeric(df['column_name'])\n",
       "# Save the cleaned dataset\n",
       "df.to_csv('cleaned_data.csv', index=False)\n",
       "Note: This is just an example and the specific code will depend on the nature of the dataset and the errors or inconsistencies that need to be corrected."
      ],
      "text/plain": [
       "<IPython.core.display.Markdown object>"
      ]
     },
     "metadata": {},
     "output_type": "display_data"
    }
   ],
   "source": [
    "prompt = 'Write python codes to perform the tasks you listed earlier.'\n",
    "llama_2.query_llama(prompt)"
   ]
  },
  {
   "cell_type": "code",
   "execution_count": 4,
   "metadata": {},
   "outputs": [
    {
     "name": "stdout",
     "output_type": "stream",
     "text": [
      "You are an intelligent data science/analytics teaching assistant. You are to respond to the student's questions. The student's question comes in with the prefix 'Student: '. You only respond once as 'Assistant: '.\n",
      "Student: What is data cleaning?\n",
      "Assistant: Data cleaning is the process of identifying, correcting, and removing errors or inconsistencies in a dataset to improve its quality and accuracy. It involves checking and verifying the data for completeness, accuracy, and consistency, and making necessary corrections to ensure that the data is reliable and usable for analysis. Data cleaning is an important step in the data preprocessing phase of data analysis, as it helps to ensure that the insights and conclusions drawn from the data are accurate and reliable.\n",
      "Student: Write python codes to perform the tasks you listed earlier.\n",
      "Assistant: Sure! Here is an example of how you could perform data cleaning tasks using Python:\n",
      "# Import necessary libraries\n",
      "import pandas as pd\n",
      "# Load the dataset\n",
      "df = pd.read_csv('data.csv')\n",
      "# Identify and correct errors or inconsistencies in the dataset\n",
      "# Check for missing values and replace them with mean or median values\n",
      "df.fillna(method='mean', inplace=True)\n",
      "# Check for invalid or unnecessary columns and remove them\n",
      "df = df.drop(columns=['column1', 'column2'])\n",
      "# Check for duplicates and remove them\n",
      "df = df.drop_duplicates()\n",
      "# Check for inconsistent data types and convert them to consistent types\n",
      "df['column_name'] = pd.to_numeric(df['column_name'])\n",
      "# Save the cleaned dataset\n",
      "df.to_csv('cleaned_data.csv', index=False)\n",
      "Note: This is just an example and the specific code will depend on the nature of the dataset and the errors or inconsistencies that need to be corrected.\n",
      "\n"
     ]
    }
   ],
   "source": [
    "print(llama_2.string_dialogue)"
   ]
  },
  {
   "cell_type": "code",
   "execution_count": 5,
   "metadata": {},
   "outputs": [
    {
     "data": {
      "text/markdown": [
       "Assistant: A language model is a type of artificial intelligence (AI) model that is trained on large amounts of text data to generate language outputs that are coherent and natural-sounding. The goal of a language model is to learn the patterns and structures of a language, such as grammar and syntax, and use this knowledge to generate text that is similar to the training data."
      ],
      "text/plain": [
       "<IPython.core.display.Markdown object>"
      ]
     },
     "metadata": {},
     "output_type": "display_data"
    }
   ],
   "source": [
    "prompt = \"what is a language model?\"\n",
    "llama_2.query_llama(prompt)"
   ]
  }
 ],
 "metadata": {
  "kernelspec": {
   "display_name": "genai",
   "language": "python",
   "name": "python3"
  },
  "language_info": {
   "codemirror_mode": {
    "name": "ipython",
    "version": 3
   },
   "file_extension": ".py",
   "mimetype": "text/x-python",
   "name": "python",
   "nbconvert_exporter": "python",
   "pygments_lexer": "ipython3",
   "version": "3.11.4"
  },
  "orig_nbformat": 4
 },
 "nbformat": 4,
 "nbformat_minor": 2
}
